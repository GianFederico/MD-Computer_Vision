{
  "nbformat": 4,
  "nbformat_minor": 0,
  "metadata": {
    "colab": {
      "name": "detecting-corners.ipynb",
      "provenance": [],
      "mount_file_id": "1Gudy3TZN0GmDy0mmdaiczx4dpuwsHHWu",
      "authorship_tag": "ABX9TyNEHYiIV9fsc2WUm//eRyjt",
      "include_colab_link": true
    },
    "kernelspec": {
      "name": "python3",
      "display_name": "Python 3"
    },
    "language_info": {
      "name": "python"
    }
  },
  "cells": [
    {
      "cell_type": "markdown",
      "metadata": {
        "id": "view-in-github",
        "colab_type": "text"
      },
      "source": [
        "<a href=\"https://colab.research.google.com/github/GianFederico/MD-repo-Computer_Vision/blob/main/detecting_corners.ipynb\" target=\"_parent\"><img src=\"https://colab.research.google.com/assets/colab-badge.svg\" alt=\"Open In Colab\"/></a>"
      ]
    },
    {
      "cell_type": "code",
      "execution_count": 6,
      "metadata": {
        "colab": {
          "base_uri": "https://localhost:8080/",
          "height": 274
        },
        "id": "OW5yOyffIKF7",
        "outputId": "bdb9a7ff-4b7c-48da-9bdc-573b155d5157"
      },
      "outputs": [
        {
          "output_type": "display_data",
          "data": {
            "text/plain": [
              "<PIL.Image.Image image mode=L size=257x257 at 0x7F8630486850>"
            ],
            "image/png": "[encoded data removed]"
          },
          "metadata": {}
        }
      ],
      "source": [
        "import cv2\n",
        "from google.colab.patches import cv2_imshow\n",
        "import numpy as np\n",
        "import matplotlib.pyplot as plt\n",
        "\n",
        "img= cv2.imread('/content/drive/MyDrive/Colab Notebooks/Computer Vision/assets/lena.png') #loading image\n",
        "gray_img= cv2.cvtColor(img, cv2.COLOR_BGR2GRAY) #converting in grayscale\n",
        "blurred_img = cv2.GaussianBlur(gray_img, ksize = (7, 7), sigmaX = 0) \n",
        "\n",
        "\n",
        "# Detector parameters\n",
        "blockSize = 2\n",
        "apertureSize = 3\n",
        "k = 0.04\n",
        "\n",
        "# Detecting corners\n",
        "dst = cv2.cornerHarris(blurred_img, blockSize, apertureSize, k)\n",
        "\n",
        "# Normalizing\n",
        "dst_norm = np.empty(dst.shape, dtype=np.float32)\n",
        "cv2.normalize(dst, dst_norm, alpha=0, beta=255, norm_type=cv2.NORM_MINMAX)\n",
        "dst_norm_scaled = cv2.convertScaleAbs(dst_norm)\n",
        "\n",
        "cv2_imshow(dst_norm_scaled)\n",
        "\n",
        "\n",
        "\n",
        "\n",
        "\n",
        "\n",
        "\n",
        "# from __future__ import print_function\n",
        "# import cv2 as cv\n",
        "# import numpy as np\n",
        "# import argparse\n",
        "# source_window = 'Source image'\n",
        "# corners_window = 'Corners detected'\n",
        "# max_thresh = 255\n",
        "# def cornerHarris_demo(val):\n",
        "#     thresh = val\n",
        "#     # Detector parameters\n",
        "#     blockSize = 2\n",
        "#     apertureSize = 3\n",
        "#     k = 0.04\n",
        "#     # Detecting corners\n",
        "#     dst = cv.cornerHarris(src_gray, blockSize, apertureSize, k)\n",
        "#     # Normalizing\n",
        "#     dst_norm = np.empty(dst.shape, dtype=np.float32)\n",
        "#     cv.normalize(dst, dst_norm, alpha=0, beta=255, norm_type=cv.NORM_MINMAX)\n",
        "#     dst_norm_scaled = cv.convertScaleAbs(dst_norm)\n",
        "#     # Drawing a circle around corners\n",
        "#     for i in range(dst_norm.shape[0]):\n",
        "#         for j in range(dst_norm.shape[1]):\n",
        "#             if int(dst_norm[i,j]) > thresh:\n",
        "#                 cv.circle(dst_norm_scaled, (j,i), 5, (0), 2)\n",
        "#     # Showing the result\n",
        "#     cv.namedWindow(corners_window)\n",
        "#     cv.imshow(corners_window, dst_norm_scaled)\n",
        "# # Load source image and convert it to gray\n",
        "# parser = argparse.ArgumentParser(description='Code for Harris corner detector tutorial.')\n",
        "# parser.add_argument('--input', help='Path to input image.', default='building.jpg')\n",
        "# args = parser.parse_args()\n",
        "# src = cv.imread(cv.samples.findFile(args.input))\n",
        "# if src is None:\n",
        "#     print('Could not open or find the image:', args.input)\n",
        "#     exit(0)\n",
        "# src_gray = cv.cvtColor(src, cv.COLOR_BGR2GRAY)\n",
        "# # Create a window and a trackbar\n",
        "# cv.namedWindow(source_window)\n",
        "# thresh = 200 # initial threshold\n",
        "# cv.createTrackbar('Threshold: ', source_window, thresh, max_thresh, cornerHarris_demo)\n",
        "# cv.imshow(source_window, src)\n",
        "# cornerHarris_demo(thresh)\n",
        "# cv.waitKey()"
      ]
    }
  ]
}